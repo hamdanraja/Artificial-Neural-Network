{
  "nbformat": 4,
  "nbformat_minor": 0,
  "metadata": {
    "colab": {
      "provenance": []
    },
    "kernelspec": {
      "name": "python3",
      "display_name": "Python 3"
    },
    "language_info": {
      "name": "python"
    }
  },
  "cells": [
    {
      "cell_type": "code",
      "execution_count": null,
      "metadata": {
        "colab": {
          "base_uri": "https://localhost:8080/"
        },
        "id": "7PAejlR4UEI2",
        "outputId": "23bad0c9-ea6a-43da-bda8-35083888d2c3"
      },
      "outputs": [
        {
          "output_type": "stream",
          "name": "stdout",
          "text": [
            "2.4.1+cu121\n"
          ]
        }
      ],
      "source": [
        "import torch\n",
        "print(torch.__version__)\n"
      ]
    },
    {
      "cell_type": "code",
      "source": [
        "x=torch.Tensor(10).random_(0,10)\n",
        "x.to(\"cpu\")"
      ],
      "metadata": {
        "id": "xzSuIwrOUUPY",
        "colab": {
          "base_uri": "https://localhost:8080/"
        },
        "outputId": "3c9e81b3-b1c1-41ac-f0a0-cbd5f41c2ef9"
      },
      "execution_count": null,
      "outputs": [
        {
          "output_type": "execute_result",
          "data": {
            "text/plain": [
              "tensor([0., 9., 2., 3., 8., 3., 8., 9., 9., 3.])"
            ]
          },
          "metadata": {},
          "execution_count": 2
        }
      ]
    },
    {
      "cell_type": "code",
      "source": [
        "cuda_available=torch.cuda.is_available()\n",
        "cuda_available"
      ],
      "metadata": {
        "colab": {
          "base_uri": "https://localhost:8080/"
        },
        "id": "QFxHAiySYLDR",
        "outputId": "25a9bcaa-c055-48ac-ebbb-4d11eb88ff62"
      },
      "execution_count": null,
      "outputs": [
        {
          "output_type": "execute_result",
          "data": {
            "text/plain": [
              "False"
            ]
          },
          "metadata": {},
          "execution_count": 3
        }
      ]
    },
    {
      "cell_type": "code",
      "source": [
        "import torch\n",
        "one_d_tensor=torch.zeros(4)\n",
        "two_d_tensor=torch.zeros(1,4)\n",
        "print(f\"This is one d tensor{one_d_tensor} with shape{one_d_tensor.shape}\")\n",
        "print(f\"This is TWO d tensor{two_d_tensor} with shape{two_d_tensor.shape}\")\n",
        "\n"
      ],
      "metadata": {
        "colab": {
          "base_uri": "https://localhost:8080/"
        },
        "id": "sauWTGQwYud_",
        "outputId": "39bd24c2-d887-42e4-e266-1557fcb942ea"
      },
      "execution_count": null,
      "outputs": [
        {
          "output_type": "stream",
          "name": "stdout",
          "text": [
            "This is one d tensortensor([0., 0., 0., 0.]) with shapetorch.Size([4])\n",
            "This is TWO d tensortensor([[0., 0., 0., 0.]]) with shapetorch.Size([1, 4])\n"
          ]
        }
      ]
    },
    {
      "cell_type": "code",
      "source": [
        "two=torch.ones((23,3))\n",
        "two.shape,two"
      ],
      "metadata": {
        "colab": {
          "base_uri": "https://localhost:8080/"
        },
        "id": "ID3UFx2hZQ7a",
        "outputId": "9c6b8f44-afbb-42f6-e9f7-68b693581a95"
      },
      "execution_count": null,
      "outputs": [
        {
          "output_type": "execute_result",
          "data": {
            "text/plain": [
              "(torch.Size([23, 3]),\n",
              " tensor([[1., 1., 1.],\n",
              "         [1., 1., 1.],\n",
              "         [1., 1., 1.],\n",
              "         [1., 1., 1.],\n",
              "         [1., 1., 1.],\n",
              "         [1., 1., 1.],\n",
              "         [1., 1., 1.],\n",
              "         [1., 1., 1.],\n",
              "         [1., 1., 1.],\n",
              "         [1., 1., 1.],\n",
              "         [1., 1., 1.],\n",
              "         [1., 1., 1.],\n",
              "         [1., 1., 1.],\n",
              "         [1., 1., 1.],\n",
              "         [1., 1., 1.],\n",
              "         [1., 1., 1.],\n",
              "         [1., 1., 1.],\n",
              "         [1., 1., 1.],\n",
              "         [1., 1., 1.],\n",
              "         [1., 1., 1.],\n",
              "         [1., 1., 1.],\n",
              "         [1., 1., 1.],\n",
              "         [1., 1., 1.]]))"
            ]
          },
          "metadata": {},
          "execution_count": 7
        }
      ]
    },
    {
      "cell_type": "code",
      "source": [
        "two=torch.ones((2,3,3))\n",
        "two.shape,two"
      ],
      "metadata": {
        "colab": {
          "base_uri": "https://localhost:8080/"
        },
        "id": "PZggTYcjZRmO",
        "outputId": "8a2b7777-ed8d-4a88-fe71-d84c4eca6f83"
      },
      "execution_count": null,
      "outputs": [
        {
          "output_type": "execute_result",
          "data": {
            "text/plain": [
              "(torch.Size([2, 3, 3]),\n",
              " tensor([[[1., 1., 1.],\n",
              "          [1., 1., 1.],\n",
              "          [1., 1., 1.]],\n",
              " \n",
              "         [[1., 1., 1.],\n",
              "          [1., 1., 1.],\n",
              "          [1., 1., 1.]]]))"
            ]
          },
          "metadata": {},
          "execution_count": 8
        }
      ]
    },
    {
      "cell_type": "code",
      "source": [
        "example_1 = torch.randn(3,3)\n",
        "example_2 = torch.randint(low=0, high=2, \\\n",
        "size=(3,3)).type(torch.FloatTensor)"
      ],
      "metadata": {
        "id": "5UYbAZ_LZRo4"
      },
      "execution_count": 15,
      "outputs": []
    },
    {
      "cell_type": "code",
      "source": [
        "pip install ucimlrepo"
      ],
      "metadata": {
        "id": "1wiF-wZNZRr-",
        "colab": {
          "base_uri": "https://localhost:8080/"
        },
        "outputId": "8d9fbe85-deb8-4cb9-a6d5-077ea0072aae"
      },
      "execution_count": 18,
      "outputs": [
        {
          "output_type": "stream",
          "name": "stdout",
          "text": [
            "Collecting ucimlrepo\n",
            "  Downloading ucimlrepo-0.0.7-py3-none-any.whl.metadata (5.5 kB)\n",
            "Requirement already satisfied: pandas>=1.0.0 in /usr/local/lib/python3.10/dist-packages (from ucimlrepo) (2.2.2)\n",
            "Requirement already satisfied: certifi>=2020.12.5 in /usr/local/lib/python3.10/dist-packages (from ucimlrepo) (2024.8.30)\n",
            "Requirement already satisfied: numpy>=1.22.4 in /usr/local/lib/python3.10/dist-packages (from pandas>=1.0.0->ucimlrepo) (1.26.4)\n",
            "Requirement already satisfied: python-dateutil>=2.8.2 in /usr/local/lib/python3.10/dist-packages (from pandas>=1.0.0->ucimlrepo) (2.8.2)\n",
            "Requirement already satisfied: pytz>=2020.1 in /usr/local/lib/python3.10/dist-packages (from pandas>=1.0.0->ucimlrepo) (2024.2)\n",
            "Requirement already satisfied: tzdata>=2022.7 in /usr/local/lib/python3.10/dist-packages (from pandas>=1.0.0->ucimlrepo) (2024.2)\n",
            "Requirement already satisfied: six>=1.5 in /usr/local/lib/python3.10/dist-packages (from python-dateutil>=2.8.2->pandas>=1.0.0->ucimlrepo) (1.16.0)\n",
            "Downloading ucimlrepo-0.0.7-py3-none-any.whl (8.0 kB)\n",
            "Installing collected packages: ucimlrepo\n",
            "Successfully installed ucimlrepo-0.0.7\n"
          ]
        }
      ]
    },
    {
      "cell_type": "code",
      "source": [
        "from ucimlrepo import fetch_ucirepo\n",
        "\n",
        "# fetch dataset\n",
        "appliances_energy_prediction = fetch_ucirepo(id=374)\n",
        "\n",
        "# data (as pandas dataframes)\n",
        "X = appliances_energy_prediction.data.features\n",
        "y = appliances_energy_prediction.data.targets\n",
        "\n",
        "# metadata\n",
        "print(appliances_energy_prediction.metadata)\n",
        "\n",
        "# variable information\n",
        "print(appliances_energy_prediction.variables)\n"
      ],
      "metadata": {
        "id": "klgCmsl_ZRu4",
        "colab": {
          "base_uri": "https://localhost:8080/"
        },
        "outputId": "1c8b7662-b81d-4cbb-dc6a-bb5bc88b02f2"
      },
      "execution_count": 19,
      "outputs": [
        {
          "output_type": "stream",
          "name": "stdout",
          "text": [
            "{'uci_id': 374, 'name': 'Appliances Energy Prediction', 'repository_url': 'https://archive.ics.uci.edu/dataset/374/appliances+energy+prediction', 'data_url': 'https://archive.ics.uci.edu/static/public/374/data.csv', 'abstract': 'Experimental data used to create regression models of appliances energy use in a low energy building.', 'area': 'Computer Science', 'tasks': ['Regression'], 'characteristics': ['Multivariate', 'Time-Series'], 'num_instances': 19735, 'num_features': 28, 'feature_types': ['Real'], 'demographics': [], 'target_col': ['Appliances'], 'index_col': None, 'has_missing_values': 'no', 'missing_values_symbol': None, 'year_of_dataset_creation': 2017, 'last_updated': 'Fri Mar 29 2024', 'dataset_doi': '10.24432/C5VC8G', 'creators': ['Luis Candanedo'], 'intro_paper': {'ID': 398, 'type': 'NATIVE', 'title': 'Data driven prediction models of energy use of appliances in a low-energy house', 'authors': 'L. Candanedo, V. Feldheim, Dominique Deramaix', 'venue': 'Energy and Buildings, Volume 140', 'year': 2017, 'journal': None, 'DOI': '10.1016/j.enbuild.2017.01.083', 'URL': 'https://www.semanticscholar.org/paper/28025ec6f4d5ab121bd91b36c754c0f0831d2433', 'sha': None, 'corpus': None, 'arxiv': None, 'mag': None, 'acl': None, 'pmid': None, 'pmcid': None}, 'additional_info': {'summary': 'The data set is at 10 min for about 4.5 months. The house temperature and humidity conditions were monitored with a ZigBee wireless sensor network. Each wireless node transmitted the temperature and humidity conditions around 3.3 min. Then, the wireless data was averaged for 10 minutes periods. The energy data was logged every 10 minutes with m-bus energy meters. Weather from the nearest airport weather station (Chievres Airport, Belgium) was downloaded from a public data set from Reliable Prognosis (rp5.ru), and merged together with the experimental data sets using the date and time column. Two random variables have been included in the data set for testing the regression models and to filter out non predictive attributes (parameters).\\r\\n\\r\\nFor more information about the house, data collection, R scripts and figures, please refer to the paper and to the following github repository:\\r\\n\\r\\nhttps://github.com/LuisM78/Appliances-energy-prediction-data\\r\\n', 'purpose': None, 'funded_by': None, 'instances_represent': None, 'recommended_data_splits': None, 'sensitive_data': None, 'preprocessing_description': None, 'variable_info': 'date time year-month-day hour:minute:second \\r\\nAppliances, energy use in Wh\\r\\nlights, energy use of light fixtures in the house in Wh\\r\\nT1, Temperature in kitchen area, in Celsius\\r\\nRH_1, Humidity in kitchen area, in %\\r\\nT2, Temperature in living room area, in Celsius\\r\\nRH_2, Humidity in living room area, in %\\r\\nT3, Temperature in laundry room area\\r\\nRH_3, Humidity in laundry room area, in %\\r\\nT4, Temperature in office room, in Celsius\\r\\nRH_4, Humidity in office room, in %\\r\\nT5, Temperature in bathroom, in Celsius\\r\\nRH_5, Humidity in bathroom, in %\\r\\nT6, Temperature outside the building (north side), in Celsius\\r\\nRH_6, Humidity outside the building (north side), in %\\r\\nT7, Temperature in ironing room , in Celsius\\r\\nRH_7, Humidity in ironing room, in %\\r\\nT8, Temperature in teenager room 2, in Celsius\\r\\nRH_8, Humidity in teenager room 2, in %\\r\\nT9, Temperature in parents room, in Celsius\\r\\nRH_9, Humidity in parents room, in %\\r\\nTo, Temperature outside (from Chievres weather station), in Celsius\\r\\nPressure (from Chievres weather station), in mm Hg\\r\\nRH_out, Humidity outside (from Chievres weather station), in %\\r\\nWind speed (from Chievres weather station), in m/s\\r\\nVisibility (from Chievres weather station), in km\\r\\nTdewpoint (from Chievres weather station), Â°C\\r\\nrv1, Random variable 1, nondimensional\\r\\nrv2, Random variable 2, nondimensional\\r\\n\\r\\nWhere indicated, hourly data (then interpolated) from the nearest airport weather station (Chievres Airport, Belgium) was downloaded from a public data set from Reliable Prognosis, rp5.ru. Permission was obtained from Reliable Prognosis for the distribution of the 4.5 months of weather data.\\r\\n', 'citation': None}}\n",
            "           name     role        type demographic description  units  \\\n",
            "0          date  Feature        Date        None        None   None   \n",
            "1    Appliances   Target     Integer        None        None     Wh   \n",
            "2        lights  Feature     Integer        None        None     Wh   \n",
            "3            T1  Feature  Continuous        None        None      C   \n",
            "4          RH_1  Feature  Continuous        None        None      %   \n",
            "5            T2  Feature  Continuous        None        None      C   \n",
            "6          RH_2  Feature  Continuous        None        None      %   \n",
            "7            T3  Feature  Continuous        None        None      C   \n",
            "8          RH_3  Feature  Continuous        None        None      %   \n",
            "9            T4  Feature  Continuous        None        None      C   \n",
            "10         RH_4  Feature  Continuous        None        None      %   \n",
            "11           T5  Feature  Continuous        None        None      C   \n",
            "12         RH_5  Feature  Continuous        None        None      %   \n",
            "13           T6  Feature  Continuous        None        None      C   \n",
            "14         RH_6  Feature  Continuous        None        None      %   \n",
            "15           T7  Feature  Continuous        None        None      C   \n",
            "16         RH_7  Feature  Continuous        None        None      %   \n",
            "17           T8  Feature  Continuous        None        None      C   \n",
            "18         RH_8  Feature  Continuous        None        None      %   \n",
            "19           T9  Feature  Continuous        None        None      C   \n",
            "20         RH_9  Feature  Continuous        None        None      %   \n",
            "21        T_out  Feature  Continuous        None        None      C   \n",
            "22  Press_mm_hg  Feature  Continuous        None        None  mm Hg   \n",
            "23       RH_out  Feature  Continuous        None        None      %   \n",
            "24    Windspeed  Feature  Continuous        None        None    m/s   \n",
            "25   Visibility  Feature  Continuous        None        None     km   \n",
            "26    Tdewpoint  Feature  Continuous        None        None      C   \n",
            "27          rv1  Feature  Continuous        None        None   None   \n",
            "28          rv2  Feature  Continuous        None        None   None   \n",
            "\n",
            "   missing_values  \n",
            "0              no  \n",
            "1              no  \n",
            "2              no  \n",
            "3              no  \n",
            "4              no  \n",
            "5              no  \n",
            "6              no  \n",
            "7              no  \n",
            "8              no  \n",
            "9              no  \n",
            "10             no  \n",
            "11             no  \n",
            "12             no  \n",
            "13             no  \n",
            "14             no  \n",
            "15             no  \n",
            "16             no  \n",
            "17             no  \n",
            "18             no  \n",
            "19             no  \n",
            "20             no  \n",
            "21             no  \n",
            "22             no  \n",
            "23             no  \n",
            "24             no  \n",
            "25             no  \n",
            "26             no  \n",
            "27             no  \n",
            "28             no  \n"
          ]
        }
      ]
    },
    {
      "cell_type": "code",
      "source": [
        "pip install pandas\n"
      ],
      "metadata": {
        "colab": {
          "base_uri": "https://localhost:8080/"
        },
        "id": "8tpix_oNfP19",
        "outputId": "73a5364f-a826-4bdf-e505-b450266218a6"
      },
      "execution_count": 29,
      "outputs": [
        {
          "output_type": "stream",
          "name": "stdout",
          "text": [
            "Requirement already satisfied: pandas in /usr/local/lib/python3.10/dist-packages (2.2.2)\n",
            "Requirement already satisfied: numpy>=1.22.4 in /usr/local/lib/python3.10/dist-packages (from pandas) (1.26.4)\n",
            "Requirement already satisfied: python-dateutil>=2.8.2 in /usr/local/lib/python3.10/dist-packages (from pandas) (2.8.2)\n",
            "Requirement already satisfied: pytz>=2020.1 in /usr/local/lib/python3.10/dist-packages (from pandas) (2024.2)\n",
            "Requirement already satisfied: tzdata>=2022.7 in /usr/local/lib/python3.10/dist-packages (from pandas) (2024.2)\n",
            "Requirement already satisfied: six>=1.5 in /usr/local/lib/python3.10/dist-packages (from python-dateutil>=2.8.2->pandas) (1.16.0)\n"
          ]
        }
      ]
    },
    {
      "cell_type": "code",
      "source": [
        "# Most Commonly used method of fetching data\n",
        "path = \"energydata_complete.csv\"\n",
        "df = pd.read_csv(path)\n",
        "df.head()"
      ],
      "metadata": {
        "colab": {
          "base_uri": "https://localhost:8080/",
          "height": 429
        },
        "id": "mVLyKo-bAu_2",
        "outputId": "a4afbdcb-9e50-4d00-8af7-0c9eff26930f"
      },
      "execution_count": 32,
      "outputs": [
        {
          "output_type": "execute_result",
          "data": {
            "text/plain": [
              "                  date  Appliances  lights     T1       RH_1    T2       RH_2  \\\n",
              "0  2016-01-11 17:00:00          60      30  19.89  47.596667  19.2  44.790000   \n",
              "1  2016-01-11 17:10:00          60      30  19.89  46.693333  19.2  44.722500   \n",
              "2  2016-01-11 17:20:00          50      30  19.89  46.300000  19.2  44.626667   \n",
              "3  2016-01-11 17:30:00          50      40  19.89  46.066667  19.2  44.590000   \n",
              "4  2016-01-11 17:40:00          60      40  19.89  46.333333  19.2  44.530000   \n",
              "\n",
              "      T3       RH_3         T4  ...         T9   RH_9     T_out  Press_mm_hg  \\\n",
              "0  19.79  44.730000  19.000000  ...  17.033333  45.53  6.600000        733.5   \n",
              "1  19.79  44.790000  19.000000  ...  17.066667  45.56  6.483333        733.6   \n",
              "2  19.79  44.933333  18.926667  ...  17.000000  45.50  6.366667        733.7   \n",
              "3  19.79  45.000000  18.890000  ...  17.000000  45.40  6.250000        733.8   \n",
              "4  19.79  45.000000  18.890000  ...  17.000000  45.40  6.133333        733.9   \n",
              "\n",
              "   RH_out  Windspeed  Visibility  Tdewpoint        rv1        rv2  \n",
              "0    92.0   7.000000   63.000000        5.3  13.275433  13.275433  \n",
              "1    92.0   6.666667   59.166667        5.2  18.606195  18.606195  \n",
              "2    92.0   6.333333   55.333333        5.1  28.642668  28.642668  \n",
              "3    92.0   6.000000   51.500000        5.0  45.410389  45.410389  \n",
              "4    92.0   5.666667   47.666667        4.9  10.084097  10.084097  \n",
              "\n",
              "[5 rows x 29 columns]"
            ],
            "text/html": [
              "\n",
              "  <div id=\"df-01c8601c-eda8-41c5-8be5-b4a20f4129b9\" class=\"colab-df-container\">\n",
              "    <div>\n",
              "<style scoped>\n",
              "    .dataframe tbody tr th:only-of-type {\n",
              "        vertical-align: middle;\n",
              "    }\n",
              "\n",
              "    .dataframe tbody tr th {\n",
              "        vertical-align: top;\n",
              "    }\n",
              "\n",
              "    .dataframe thead th {\n",
              "        text-align: right;\n",
              "    }\n",
              "</style>\n",
              "<table border=\"1\" class=\"dataframe\">\n",
              "  <thead>\n",
              "    <tr style=\"text-align: right;\">\n",
              "      <th></th>\n",
              "      <th>date</th>\n",
              "      <th>Appliances</th>\n",
              "      <th>lights</th>\n",
              "      <th>T1</th>\n",
              "      <th>RH_1</th>\n",
              "      <th>T2</th>\n",
              "      <th>RH_2</th>\n",
              "      <th>T3</th>\n",
              "      <th>RH_3</th>\n",
              "      <th>T4</th>\n",
              "      <th>...</th>\n",
              "      <th>T9</th>\n",
              "      <th>RH_9</th>\n",
              "      <th>T_out</th>\n",
              "      <th>Press_mm_hg</th>\n",
              "      <th>RH_out</th>\n",
              "      <th>Windspeed</th>\n",
              "      <th>Visibility</th>\n",
              "      <th>Tdewpoint</th>\n",
              "      <th>rv1</th>\n",
              "      <th>rv2</th>\n",
              "    </tr>\n",
              "  </thead>\n",
              "  <tbody>\n",
              "    <tr>\n",
              "      <th>0</th>\n",
              "      <td>2016-01-11 17:00:00</td>\n",
              "      <td>60</td>\n",
              "      <td>30</td>\n",
              "      <td>19.89</td>\n",
              "      <td>47.596667</td>\n",
              "      <td>19.2</td>\n",
              "      <td>44.790000</td>\n",
              "      <td>19.79</td>\n",
              "      <td>44.730000</td>\n",
              "      <td>19.000000</td>\n",
              "      <td>...</td>\n",
              "      <td>17.033333</td>\n",
              "      <td>45.53</td>\n",
              "      <td>6.600000</td>\n",
              "      <td>733.5</td>\n",
              "      <td>92.0</td>\n",
              "      <td>7.000000</td>\n",
              "      <td>63.000000</td>\n",
              "      <td>5.3</td>\n",
              "      <td>13.275433</td>\n",
              "      <td>13.275433</td>\n",
              "    </tr>\n",
              "    <tr>\n",
              "      <th>1</th>\n",
              "      <td>2016-01-11 17:10:00</td>\n",
              "      <td>60</td>\n",
              "      <td>30</td>\n",
              "      <td>19.89</td>\n",
              "      <td>46.693333</td>\n",
              "      <td>19.2</td>\n",
              "      <td>44.722500</td>\n",
              "      <td>19.79</td>\n",
              "      <td>44.790000</td>\n",
              "      <td>19.000000</td>\n",
              "      <td>...</td>\n",
              "      <td>17.066667</td>\n",
              "      <td>45.56</td>\n",
              "      <td>6.483333</td>\n",
              "      <td>733.6</td>\n",
              "      <td>92.0</td>\n",
              "      <td>6.666667</td>\n",
              "      <td>59.166667</td>\n",
              "      <td>5.2</td>\n",
              "      <td>18.606195</td>\n",
              "      <td>18.606195</td>\n",
              "    </tr>\n",
              "    <tr>\n",
              "      <th>2</th>\n",
              "      <td>2016-01-11 17:20:00</td>\n",
              "      <td>50</td>\n",
              "      <td>30</td>\n",
              "      <td>19.89</td>\n",
              "      <td>46.300000</td>\n",
              "      <td>19.2</td>\n",
              "      <td>44.626667</td>\n",
              "      <td>19.79</td>\n",
              "      <td>44.933333</td>\n",
              "      <td>18.926667</td>\n",
              "      <td>...</td>\n",
              "      <td>17.000000</td>\n",
              "      <td>45.50</td>\n",
              "      <td>6.366667</td>\n",
              "      <td>733.7</td>\n",
              "      <td>92.0</td>\n",
              "      <td>6.333333</td>\n",
              "      <td>55.333333</td>\n",
              "      <td>5.1</td>\n",
              "      <td>28.642668</td>\n",
              "      <td>28.642668</td>\n",
              "    </tr>\n",
              "    <tr>\n",
              "      <th>3</th>\n",
              "      <td>2016-01-11 17:30:00</td>\n",
              "      <td>50</td>\n",
              "      <td>40</td>\n",
              "      <td>19.89</td>\n",
              "      <td>46.066667</td>\n",
              "      <td>19.2</td>\n",
              "      <td>44.590000</td>\n",
              "      <td>19.79</td>\n",
              "      <td>45.000000</td>\n",
              "      <td>18.890000</td>\n",
              "      <td>...</td>\n",
              "      <td>17.000000</td>\n",
              "      <td>45.40</td>\n",
              "      <td>6.250000</td>\n",
              "      <td>733.8</td>\n",
              "      <td>92.0</td>\n",
              "      <td>6.000000</td>\n",
              "      <td>51.500000</td>\n",
              "      <td>5.0</td>\n",
              "      <td>45.410389</td>\n",
              "      <td>45.410389</td>\n",
              "    </tr>\n",
              "    <tr>\n",
              "      <th>4</th>\n",
              "      <td>2016-01-11 17:40:00</td>\n",
              "      <td>60</td>\n",
              "      <td>40</td>\n",
              "      <td>19.89</td>\n",
              "      <td>46.333333</td>\n",
              "      <td>19.2</td>\n",
              "      <td>44.530000</td>\n",
              "      <td>19.79</td>\n",
              "      <td>45.000000</td>\n",
              "      <td>18.890000</td>\n",
              "      <td>...</td>\n",
              "      <td>17.000000</td>\n",
              "      <td>45.40</td>\n",
              "      <td>6.133333</td>\n",
              "      <td>733.9</td>\n",
              "      <td>92.0</td>\n",
              "      <td>5.666667</td>\n",
              "      <td>47.666667</td>\n",
              "      <td>4.9</td>\n",
              "      <td>10.084097</td>\n",
              "      <td>10.084097</td>\n",
              "    </tr>\n",
              "  </tbody>\n",
              "</table>\n",
              "<p>5 rows × 29 columns</p>\n",
              "</div>\n",
              "    <div class=\"colab-df-buttons\">\n",
              "\n",
              "  <div class=\"colab-df-container\">\n",
              "    <button class=\"colab-df-convert\" onclick=\"convertToInteractive('df-01c8601c-eda8-41c5-8be5-b4a20f4129b9')\"\n",
              "            title=\"Convert this dataframe to an interactive table.\"\n",
              "            style=\"display:none;\">\n",
              "\n",
              "  <svg xmlns=\"http://www.w3.org/2000/svg\" height=\"24px\" viewBox=\"0 -960 960 960\">\n",
              "    <path d=\"M120-120v-720h720v720H120Zm60-500h600v-160H180v160Zm220 220h160v-160H400v160Zm0 220h160v-160H400v160ZM180-400h160v-160H180v160Zm440 0h160v-160H620v160ZM180-180h160v-160H180v160Zm440 0h160v-160H620v160Z\"/>\n",
              "  </svg>\n",
              "    </button>\n",
              "\n",
              "  <style>\n",
              "    .colab-df-container {\n",
              "      display:flex;\n",
              "      gap: 12px;\n",
              "    }\n",
              "\n",
              "    .colab-df-convert {\n",
              "      background-color: #E8F0FE;\n",
              "      border: none;\n",
              "      border-radius: 50%;\n",
              "      cursor: pointer;\n",
              "      display: none;\n",
              "      fill: #1967D2;\n",
              "      height: 32px;\n",
              "      padding: 0 0 0 0;\n",
              "      width: 32px;\n",
              "    }\n",
              "\n",
              "    .colab-df-convert:hover {\n",
              "      background-color: #E2EBFA;\n",
              "      box-shadow: 0px 1px 2px rgba(60, 64, 67, 0.3), 0px 1px 3px 1px rgba(60, 64, 67, 0.15);\n",
              "      fill: #174EA6;\n",
              "    }\n",
              "\n",
              "    .colab-df-buttons div {\n",
              "      margin-bottom: 4px;\n",
              "    }\n",
              "\n",
              "    [theme=dark] .colab-df-convert {\n",
              "      background-color: #3B4455;\n",
              "      fill: #D2E3FC;\n",
              "    }\n",
              "\n",
              "    [theme=dark] .colab-df-convert:hover {\n",
              "      background-color: #434B5C;\n",
              "      box-shadow: 0px 1px 3px 1px rgba(0, 0, 0, 0.15);\n",
              "      filter: drop-shadow(0px 1px 2px rgba(0, 0, 0, 0.3));\n",
              "      fill: #FFFFFF;\n",
              "    }\n",
              "  </style>\n",
              "\n",
              "    <script>\n",
              "      const buttonEl =\n",
              "        document.querySelector('#df-01c8601c-eda8-41c5-8be5-b4a20f4129b9 button.colab-df-convert');\n",
              "      buttonEl.style.display =\n",
              "        google.colab.kernel.accessAllowed ? 'block' : 'none';\n",
              "\n",
              "      async function convertToInteractive(key) {\n",
              "        const element = document.querySelector('#df-01c8601c-eda8-41c5-8be5-b4a20f4129b9');\n",
              "        const dataTable =\n",
              "          await google.colab.kernel.invokeFunction('convertToInteractive',\n",
              "                                                    [key], {});\n",
              "        if (!dataTable) return;\n",
              "\n",
              "        const docLinkHtml = 'Like what you see? Visit the ' +\n",
              "          '<a target=\"_blank\" href=https://colab.research.google.com/notebooks/data_table.ipynb>data table notebook</a>'\n",
              "          + ' to learn more about interactive tables.';\n",
              "        element.innerHTML = '';\n",
              "        dataTable['output_type'] = 'display_data';\n",
              "        await google.colab.output.renderOutput(dataTable, element);\n",
              "        const docLink = document.createElement('div');\n",
              "        docLink.innerHTML = docLinkHtml;\n",
              "        element.appendChild(docLink);\n",
              "      }\n",
              "    </script>\n",
              "  </div>\n",
              "\n",
              "\n",
              "<div id=\"df-85eb9a08-7418-4d74-ab88-f182cf7c6bca\">\n",
              "  <button class=\"colab-df-quickchart\" onclick=\"quickchart('df-85eb9a08-7418-4d74-ab88-f182cf7c6bca')\"\n",
              "            title=\"Suggest charts\"\n",
              "            style=\"display:none;\">\n",
              "\n",
              "<svg xmlns=\"http://www.w3.org/2000/svg\" height=\"24px\"viewBox=\"0 0 24 24\"\n",
              "     width=\"24px\">\n",
              "    <g>\n",
              "        <path d=\"M19 3H5c-1.1 0-2 .9-2 2v14c0 1.1.9 2 2 2h14c1.1 0 2-.9 2-2V5c0-1.1-.9-2-2-2zM9 17H7v-7h2v7zm4 0h-2V7h2v10zm4 0h-2v-4h2v4z\"/>\n",
              "    </g>\n",
              "</svg>\n",
              "  </button>\n",
              "\n",
              "<style>\n",
              "  .colab-df-quickchart {\n",
              "      --bg-color: #E8F0FE;\n",
              "      --fill-color: #1967D2;\n",
              "      --hover-bg-color: #E2EBFA;\n",
              "      --hover-fill-color: #174EA6;\n",
              "      --disabled-fill-color: #AAA;\n",
              "      --disabled-bg-color: #DDD;\n",
              "  }\n",
              "\n",
              "  [theme=dark] .colab-df-quickchart {\n",
              "      --bg-color: #3B4455;\n",
              "      --fill-color: #D2E3FC;\n",
              "      --hover-bg-color: #434B5C;\n",
              "      --hover-fill-color: #FFFFFF;\n",
              "      --disabled-bg-color: #3B4455;\n",
              "      --disabled-fill-color: #666;\n",
              "  }\n",
              "\n",
              "  .colab-df-quickchart {\n",
              "    background-color: var(--bg-color);\n",
              "    border: none;\n",
              "    border-radius: 50%;\n",
              "    cursor: pointer;\n",
              "    display: none;\n",
              "    fill: var(--fill-color);\n",
              "    height: 32px;\n",
              "    padding: 0;\n",
              "    width: 32px;\n",
              "  }\n",
              "\n",
              "  .colab-df-quickchart:hover {\n",
              "    background-color: var(--hover-bg-color);\n",
              "    box-shadow: 0 1px 2px rgba(60, 64, 67, 0.3), 0 1px 3px 1px rgba(60, 64, 67, 0.15);\n",
              "    fill: var(--button-hover-fill-color);\n",
              "  }\n",
              "\n",
              "  .colab-df-quickchart-complete:disabled,\n",
              "  .colab-df-quickchart-complete:disabled:hover {\n",
              "    background-color: var(--disabled-bg-color);\n",
              "    fill: var(--disabled-fill-color);\n",
              "    box-shadow: none;\n",
              "  }\n",
              "\n",
              "  .colab-df-spinner {\n",
              "    border: 2px solid var(--fill-color);\n",
              "    border-color: transparent;\n",
              "    border-bottom-color: var(--fill-color);\n",
              "    animation:\n",
              "      spin 1s steps(1) infinite;\n",
              "  }\n",
              "\n",
              "  @keyframes spin {\n",
              "    0% {\n",
              "      border-color: transparent;\n",
              "      border-bottom-color: var(--fill-color);\n",
              "      border-left-color: var(--fill-color);\n",
              "    }\n",
              "    20% {\n",
              "      border-color: transparent;\n",
              "      border-left-color: var(--fill-color);\n",
              "      border-top-color: var(--fill-color);\n",
              "    }\n",
              "    30% {\n",
              "      border-color: transparent;\n",
              "      border-left-color: var(--fill-color);\n",
              "      border-top-color: var(--fill-color);\n",
              "      border-right-color: var(--fill-color);\n",
              "    }\n",
              "    40% {\n",
              "      border-color: transparent;\n",
              "      border-right-color: var(--fill-color);\n",
              "      border-top-color: var(--fill-color);\n",
              "    }\n",
              "    60% {\n",
              "      border-color: transparent;\n",
              "      border-right-color: var(--fill-color);\n",
              "    }\n",
              "    80% {\n",
              "      border-color: transparent;\n",
              "      border-right-color: var(--fill-color);\n",
              "      border-bottom-color: var(--fill-color);\n",
              "    }\n",
              "    90% {\n",
              "      border-color: transparent;\n",
              "      border-bottom-color: var(--fill-color);\n",
              "    }\n",
              "  }\n",
              "</style>\n",
              "\n",
              "  <script>\n",
              "    async function quickchart(key) {\n",
              "      const quickchartButtonEl =\n",
              "        document.querySelector('#' + key + ' button');\n",
              "      quickchartButtonEl.disabled = true;  // To prevent multiple clicks.\n",
              "      quickchartButtonEl.classList.add('colab-df-spinner');\n",
              "      try {\n",
              "        const charts = await google.colab.kernel.invokeFunction(\n",
              "            'suggestCharts', [key], {});\n",
              "      } catch (error) {\n",
              "        console.error('Error during call to suggestCharts:', error);\n",
              "      }\n",
              "      quickchartButtonEl.classList.remove('colab-df-spinner');\n",
              "      quickchartButtonEl.classList.add('colab-df-quickchart-complete');\n",
              "    }\n",
              "    (() => {\n",
              "      let quickchartButtonEl =\n",
              "        document.querySelector('#df-85eb9a08-7418-4d74-ab88-f182cf7c6bca button');\n",
              "      quickchartButtonEl.style.display =\n",
              "        google.colab.kernel.accessAllowed ? 'block' : 'none';\n",
              "    })();\n",
              "  </script>\n",
              "</div>\n",
              "\n",
              "    </div>\n",
              "  </div>\n"
            ],
            "application/vnd.google.colaboratory.intrinsic+json": {
              "type": "dataframe",
              "variable_name": "df"
            }
          },
          "metadata": {},
          "execution_count": 32
        }
      ]
    },
    {
      "cell_type": "code",
      "source": [
        "df.dtypes"
      ],
      "metadata": {
        "colab": {
          "base_uri": "https://localhost:8080/",
          "height": 994
        },
        "id": "NKBw7G2TBQGl",
        "outputId": "9ca52a87-d240-4ccc-ba64-fddc32358043"
      },
      "execution_count": 33,
      "outputs": [
        {
          "output_type": "execute_result",
          "data": {
            "text/plain": [
              "date            object\n",
              "Appliances       int64\n",
              "lights           int64\n",
              "T1             float64\n",
              "RH_1           float64\n",
              "T2             float64\n",
              "RH_2           float64\n",
              "T3             float64\n",
              "RH_3           float64\n",
              "T4             float64\n",
              "RH_4           float64\n",
              "T5             float64\n",
              "RH_5           float64\n",
              "T6             float64\n",
              "RH_6           float64\n",
              "T7             float64\n",
              "RH_7           float64\n",
              "T8             float64\n",
              "RH_8           float64\n",
              "T9             float64\n",
              "RH_9           float64\n",
              "T_out          float64\n",
              "Press_mm_hg    float64\n",
              "RH_out         float64\n",
              "Windspeed      float64\n",
              "Visibility     float64\n",
              "Tdewpoint      float64\n",
              "rv1            float64\n",
              "rv2            float64\n",
              "dtype: object"
            ],
            "text/html": [
              "<div>\n",
              "<style scoped>\n",
              "    .dataframe tbody tr th:only-of-type {\n",
              "        vertical-align: middle;\n",
              "    }\n",
              "\n",
              "    .dataframe tbody tr th {\n",
              "        vertical-align: top;\n",
              "    }\n",
              "\n",
              "    .dataframe thead th {\n",
              "        text-align: right;\n",
              "    }\n",
              "</style>\n",
              "<table border=\"1\" class=\"dataframe\">\n",
              "  <thead>\n",
              "    <tr style=\"text-align: right;\">\n",
              "      <th></th>\n",
              "      <th>0</th>\n",
              "    </tr>\n",
              "  </thead>\n",
              "  <tbody>\n",
              "    <tr>\n",
              "      <th>date</th>\n",
              "      <td>object</td>\n",
              "    </tr>\n",
              "    <tr>\n",
              "      <th>Appliances</th>\n",
              "      <td>int64</td>\n",
              "    </tr>\n",
              "    <tr>\n",
              "      <th>lights</th>\n",
              "      <td>int64</td>\n",
              "    </tr>\n",
              "    <tr>\n",
              "      <th>T1</th>\n",
              "      <td>float64</td>\n",
              "    </tr>\n",
              "    <tr>\n",
              "      <th>RH_1</th>\n",
              "      <td>float64</td>\n",
              "    </tr>\n",
              "    <tr>\n",
              "      <th>T2</th>\n",
              "      <td>float64</td>\n",
              "    </tr>\n",
              "    <tr>\n",
              "      <th>RH_2</th>\n",
              "      <td>float64</td>\n",
              "    </tr>\n",
              "    <tr>\n",
              "      <th>T3</th>\n",
              "      <td>float64</td>\n",
              "    </tr>\n",
              "    <tr>\n",
              "      <th>RH_3</th>\n",
              "      <td>float64</td>\n",
              "    </tr>\n",
              "    <tr>\n",
              "      <th>T4</th>\n",
              "      <td>float64</td>\n",
              "    </tr>\n",
              "    <tr>\n",
              "      <th>RH_4</th>\n",
              "      <td>float64</td>\n",
              "    </tr>\n",
              "    <tr>\n",
              "      <th>T5</th>\n",
              "      <td>float64</td>\n",
              "    </tr>\n",
              "    <tr>\n",
              "      <th>RH_5</th>\n",
              "      <td>float64</td>\n",
              "    </tr>\n",
              "    <tr>\n",
              "      <th>T6</th>\n",
              "      <td>float64</td>\n",
              "    </tr>\n",
              "    <tr>\n",
              "      <th>RH_6</th>\n",
              "      <td>float64</td>\n",
              "    </tr>\n",
              "    <tr>\n",
              "      <th>T7</th>\n",
              "      <td>float64</td>\n",
              "    </tr>\n",
              "    <tr>\n",
              "      <th>RH_7</th>\n",
              "      <td>float64</td>\n",
              "    </tr>\n",
              "    <tr>\n",
              "      <th>T8</th>\n",
              "      <td>float64</td>\n",
              "    </tr>\n",
              "    <tr>\n",
              "      <th>RH_8</th>\n",
              "      <td>float64</td>\n",
              "    </tr>\n",
              "    <tr>\n",
              "      <th>T9</th>\n",
              "      <td>float64</td>\n",
              "    </tr>\n",
              "    <tr>\n",
              "      <th>RH_9</th>\n",
              "      <td>float64</td>\n",
              "    </tr>\n",
              "    <tr>\n",
              "      <th>T_out</th>\n",
              "      <td>float64</td>\n",
              "    </tr>\n",
              "    <tr>\n",
              "      <th>Press_mm_hg</th>\n",
              "      <td>float64</td>\n",
              "    </tr>\n",
              "    <tr>\n",
              "      <th>RH_out</th>\n",
              "      <td>float64</td>\n",
              "    </tr>\n",
              "    <tr>\n",
              "      <th>Windspeed</th>\n",
              "      <td>float64</td>\n",
              "    </tr>\n",
              "    <tr>\n",
              "      <th>Visibility</th>\n",
              "      <td>float64</td>\n",
              "    </tr>\n",
              "    <tr>\n",
              "      <th>Tdewpoint</th>\n",
              "      <td>float64</td>\n",
              "    </tr>\n",
              "    <tr>\n",
              "      <th>rv1</th>\n",
              "      <td>float64</td>\n",
              "    </tr>\n",
              "    <tr>\n",
              "      <th>rv2</th>\n",
              "      <td>float64</td>\n",
              "    </tr>\n",
              "  </tbody>\n",
              "</table>\n",
              "</div><br><label><b>dtype:</b> object</label>"
            ]
          },
          "metadata": {},
          "execution_count": 33
        }
      ]
    },
    {
      "cell_type": "code",
      "source": [
        "df.index"
      ],
      "metadata": {
        "colab": {
          "base_uri": "https://localhost:8080/"
        },
        "id": "60EB6RzOBYJW",
        "outputId": "2acc9588-bf0a-4423-b6db-595e592ca8b3"
      },
      "execution_count": 34,
      "outputs": [
        {
          "output_type": "execute_result",
          "data": {
            "text/plain": [
              "RangeIndex(start=0, stop=19735, step=1)"
            ]
          },
          "metadata": {},
          "execution_count": 34
        }
      ]
    },
    {
      "cell_type": "code",
      "source": [
        "import torch\n",
        "list_a=[1,2,3,4]\n",
        "tensor=torch.tensor(list_a)\n",
        "print(tensor)"
      ],
      "metadata": {
        "colab": {
          "base_uri": "https://localhost:8080/"
        },
        "id": "ZZSU7b1xBquQ",
        "outputId": "484ddaf5-f4e1-4b21-f922-e64acaa29e52"
      },
      "execution_count": 37,
      "outputs": [
        {
          "output_type": "stream",
          "name": "stdout",
          "text": [
            "tensor([1, 2, 3, 4])\n"
          ]
        }
      ]
    },
    {
      "cell_type": "code",
      "source": [
        "import numpy as np\n",
        "import torch\n",
        "arr_a=[1,2,3,4]\n",
        "arr_b=[5,6,7,8]\n",
        "tensora=torch.tensor(arr_a)\n",
        "tensorb=torch.tensor(arr_b)\n",
        "tensor_c=tensorb-tensora\n",
        "tensor_d=tensora*tensorb\n",
        "tensor_e=tensor_c+tensor_d\n",
        "print(tensor_e)"
      ],
      "metadata": {
        "colab": {
          "base_uri": "https://localhost:8080/"
        },
        "id": "CWSgypHwC_yu",
        "outputId": "e66aeee9-7378-43a6-b16a-4c4d5ca486df"
      },
      "execution_count": 39,
      "outputs": [
        {
          "output_type": "stream",
          "name": "stdout",
          "text": [
            "tensor([ 9, 16, 25, 36])\n"
          ]
        }
      ]
    },
    {
      "cell_type": "code",
      "source": [
        "import torch.nn as nn\n",
        "input_tensor=torch.tensor([[1.22,0.32,4.55]])\n",
        "linear_layer=nn.Linear(in_features=3,out_features=2)\n",
        "out=linear_layer(input_tensor)\n",
        "print(out)"
      ],
      "metadata": {
        "colab": {
          "base_uri": "https://localhost:8080/"
        },
        "id": "Jzi7CV5iEMWz",
        "outputId": "4c2bae61-6584-4271-d686-e0fbb035d109"
      },
      "execution_count": 41,
      "outputs": [
        {
          "output_type": "stream",
          "name": "stdout",
          "text": [
            "tensor([[-2.2725,  2.9284]], grad_fn=<AddmmBackward0>)\n"
          ]
        }
      ]
    },
    {
      "cell_type": "code",
      "source": [
        "linear_layer.weight\n",
        "linear_layer.bias"
      ],
      "metadata": {
        "colab": {
          "base_uri": "https://localhost:8080/"
        },
        "id": "nka8z1v2F-G5",
        "outputId": "10503c17-ea44-47a5-9a9e-010bc8874a2f"
      },
      "execution_count": 43,
      "outputs": [
        {
          "output_type": "execute_result",
          "data": {
            "text/plain": [
              "Parameter containing:\n",
              "tensor([0.2536, 0.3020], requires_grad=True)"
            ]
          },
          "metadata": {},
          "execution_count": 43
        }
      ]
    },
    {
      "cell_type": "code",
      "source": [],
      "metadata": {
        "id": "eqcOt35kGqBg"
      },
      "execution_count": 70,
      "outputs": []
    },
    {
      "cell_type": "code",
      "source": [
        "import torch.nn as nn\n",
        "\n",
        "class SimpleNN(nn.Module):\n",
        "  def __init__(self, hidden_units):\n",
        "     super(SimpleNN,self).__init__()\n",
        "     self.linear_layer1=nn.Linear(8,hidden_units)\n",
        "     self.linear_layer2=nn.Linear(hidden_units,1)\n",
        "  def forward(self,x):\n",
        "     # Convert the input tensor to float32 before passing it to the linear layer\n",
        "     x = x.type(torch.float32)\n",
        "     x=torch.relu(self.linear_layer1(x))\n",
        "     x=self.linear_layer2(x)\n",
        "     return x\n",
        "\n",
        "hidden_units=4\n",
        "model=SimpleNN(hidden_units)\n",
        "input_tensor=torch.tensor([[2, 3, 6, 7, 9, 3, 2, 1]])\n",
        "output = model(input_tensor)\n",
        "print(\"Output:\", output)\n"
      ],
      "metadata": {
        "colab": {
          "base_uri": "https://localhost:8080/"
        },
        "id": "K6oXgiSeJuzf",
        "outputId": "cf8ccfbb-ee5d-45e2-d502-9e9a1513bfc4"
      },
      "execution_count": 55,
      "outputs": [
        {
          "output_type": "stream",
          "name": "stdout",
          "text": [
            "Output: tensor([[-0.5206]], grad_fn=<AddmmBackward0>)\n"
          ]
        }
      ]
    },
    {
      "cell_type": "code",
      "source": [
        "import torch\n",
        "import torch.nn as nn\n",
        "class module(nn.Module):\n",
        "  def __init__(self):\n",
        "    super(module,self).__init__()\n",
        "    self.l1=nn.Linear(12,16)\n",
        "    self.l2=nn.Linear(16,8)\n",
        "    self.l3=nn.Linear(8,4)\n",
        "    self.l4=nn.Linear(4,1)\n",
        "  def forward(self,x):\n",
        "    x=torch.relu(self.l1(x))\n",
        "    x=torch.relu(self.l2(x))\n",
        "    x=torch.relu(self.l3(x))\n",
        "    x=self.l4(x)\n",
        "    return(x)\n",
        "model = module()\n",
        "input=torch.Tensor([[9,8,7,6,5,4,3,2,1,16,12,22]])\n",
        "out=model(input)\n",
        "print(out)\n",
        "\n",
        ""
      ],
      "metadata": {
        "colab": {
          "base_uri": "https://localhost:8080/"
        },
        "id": "Y7QVIjnaLZAM",
        "outputId": "47484e62-a755-4a79-f475-c18f4f7d597c"
      },
      "execution_count": 61,
      "outputs": [
        {
          "output_type": "stream",
          "name": "stdout",
          "text": [
            "tensor([[0.5260]], grad_fn=<AddmmBackward0>)\n"
          ]
        }
      ]
    },
    {
      "cell_type": "code",
      "source": [
        "import torch\n",
        "import torch.nn as nn\n",
        "score=torch.Tensor([[1.5,2.5,-1.5,2,3]])\n",
        "sig=torch.sigmoid(score)\n",
        "print(sig)\n",
        "soft=nn.Softmax(dim=1)\n",
        "out=soft(score)\n",
        "print(out)"
      ],
      "metadata": {
        "colab": {
          "base_uri": "https://localhost:8080/"
        },
        "id": "NZxyXiI_Qn2m",
        "outputId": "bae68cdb-f6f8-47d0-bda6-ed33f022a8eb"
      },
      "execution_count": 70,
      "outputs": [
        {
          "output_type": "stream",
          "name": "stdout",
          "text": [
            "tensor([[0.8176, 0.9241, 0.1824, 0.8808, 0.9526]])\n",
            "tensor([[0.1010, 0.2746, 0.0050, 0.1666, 0.4528]])\n"
          ]
        }
      ]
    },
    {
      "cell_type": "code",
      "source": [
        "import torch\n",
        "import torch.nn as nn\n",
        "class binaryClassifier(nn.Module):\n",
        "  def __init__(self):\n",
        "    super(binaryClassifier,self).__init__()\n",
        "    self.l1=nn.Linear(8,1)\n",
        "  def forward(self,x):\n",
        "     x=self.l1(x)\n",
        "     x=torch.sigmoid(x)\n",
        "     return x\n",
        "model=binaryClassifier()\n",
        "input=torch.tensor([[1,2,3,4,5,6,7,8]],dtype=torch.float)\n",
        "output=model(input)\n",
        "print(output)\n"
      ],
      "metadata": {
        "colab": {
          "base_uri": "https://localhost:8080/"
        },
        "id": "ieWA2IRfUn85",
        "outputId": "269faeb1-ec6a-4693-a477-dad0052decc9"
      },
      "execution_count": 75,
      "outputs": [
        {
          "output_type": "stream",
          "name": "stdout",
          "text": [
            "tensor([[0.4310]], grad_fn=<SigmoidBackward0>)\n"
          ]
        }
      ]
    },
    {
      "cell_type": "code",
      "source": [
        "import torch\n",
        "import torch.nn as nn\n",
        "\n",
        "class Regression(nn.Module):\n",
        "    def __init__(self):\n",
        "        super(Regression, self).__init__()\n",
        "        self.l1 = nn.Linear(12, 16)  # Input size: 12\n",
        "        self.l2 = nn.Linear(16, 8)\n",
        "        self.l3 = nn.Linear(8, 4)\n",
        "        self.l4 = nn.Linear(4, 1)\n",
        "\n",
        "    def forward(self, x):\n",
        "        x = self.l1(x)\n",
        "        x = self.l2(x)\n",
        "        x = self.l3(x)\n",
        "        x = self.l4(x)\n",
        "        return x\n",
        "\n",
        "# Instantiate the model\n",
        "model = Regression()\n",
        "\n",
        "# Prepare an input tensor with the correct size (12 elements)\n",
        "input_tensor = torch.tensor([[3, 4, 6, 7, 10, 12, 2, 3, 6, 8, 9, 1]], dtype=torch.float)  # Example input with 12 elements\n",
        "\n",
        "# Perform a forward pass to get the output\n",
        "output = model(input_tensor)\n",
        "\n",
        "# Print the output\n",
        "print(\"Regression Output:\", output.item())\n"
      ],
      "metadata": {
        "colab": {
          "base_uri": "https://localhost:8080/"
        },
        "id": "1QMr0NtzZX4a",
        "outputId": "508926c4-b72e-450a-8780-4309f2460b63"
      },
      "execution_count": 80,
      "outputs": [
        {
          "output_type": "stream",
          "name": "stdout",
          "text": [
            "Regression Output: 0.9001694917678833\n"
          ]
        }
      ]
    },
    {
      "cell_type": "code",
      "source": [
        "import torch\n",
        "import torch.nn as nn\n",
        "import torch.nn.functional as F\n",
        "\n",
        "class multiclass(nn.Module):\n",
        "    def __init__(self):\n",
        "        super(multiclass, self).__init__()\n",
        "        self.l1 = nn.Linear(12, 16)  # Input size: 12\n",
        "        self.l2 = nn.Linear(16, 8)\n",
        "        self.l3 = nn.Linear(8, 4)\n",
        "        self.l4 = nn.Linear(4, 1)\n",
        "\n",
        "    def forward(self, x):\n",
        "        x = self.l1(x)\n",
        "        x = self.l2(x)\n",
        "        x = self.l3(x)\n",
        "        x = self.l4(x)\n",
        "        return x\n",
        "\n",
        "# Instantiate the model\n",
        "model = multiclass()\n",
        "\n",
        "# Prepare an input tensor with the correct size (12 elements)\n",
        "input_tensor = torch.tensor([[3, 4, 6, 7, 10, 12, 2, 3, 6, 8, 9, 1]], dtype=torch.float)  # Example input with 12 elements\n",
        "\n",
        "# Perform a forward pass to get the output\n",
        "output = model(input_tensor)\n",
        "probabilities = F.softmax(output, dim=1)\n",
        "\n",
        "\n",
        "print(\"Classification Probabilities:\",probabilities)\n",
        "\n",
        "\n",
        "# Print the output\n",
        "print(\"multi class Output:\", output)\n"
      ],
      "metadata": {
        "colab": {
          "base_uri": "https://localhost:8080/"
        },
        "id": "dx53b3gnb1rT",
        "outputId": "386c1e13-f3f8-4e92-c519-3674e8d6896b"
      },
      "execution_count": 83,
      "outputs": [
        {
          "output_type": "stream",
          "name": "stdout",
          "text": [
            "Classification Probabilities: tensor([[1.]], grad_fn=<SoftmaxBackward0>)\n",
            "multi class Output: tensor([[-1.9582]], grad_fn=<AddmmBackward0>)\n"
          ]
        }
      ]
    },
    {
      "cell_type": "code",
      "source": [
        "import numpy as np\n",
        "import torch\n",
        "import torch.nn.functional as F\n",
        "y=1\n",
        "classes=3\n",
        "one_hot_manual=np.zeros(classes)\n",
        "one_hot_manual[y]=1\n",
        "print(one_hot_manual)\n",
        "tensory=torch.tensor(y)\n",
        "one_hot_torch=F.one_hot(tensory,num_classes=classes)\n",
        "print(one_hot_torch)"
      ],
      "metadata": {
        "colab": {
          "base_uri": "https://localhost:8080/"
        },
        "id": "k6-Sg35qe8zU",
        "outputId": "e042d4b5-ae81-49d5-c399-b2ead6b94b29"
      },
      "execution_count": 85,
      "outputs": [
        {
          "output_type": "stream",
          "name": "stdout",
          "text": [
            "[0. 1. 0.]\n",
            "tensor([0, 1, 0])\n"
          ]
        }
      ]
    },
    {
      "cell_type": "code",
      "source": [
        "import torch\n",
        "import torch.nn.functional as F\n",
        "y=1\n",
        "classes=3\n",
        "torchy=torch.tensor(y)\n",
        "one_hot1=F.one_hot(tensory,classes),float()\n",
        "print(one_hot1)\n",
        "model=torch.tensor([[2.0,5.0,6.0]])\n",
        "cross_entropy=torch.nn.CrossEntropyLoss()\n",
        "loss=cross_entropy(model.squeeze(0),torchy)\n",
        "print(loss)"
      ],
      "metadata": {
        "colab": {
          "base_uri": "https://localhost:8080/"
        },
        "id": "6BmUV-Deghqs",
        "outputId": "20752e9d-f6f7-4f66-b2ef-7be7dda6d3a7"
      },
      "execution_count": 91,
      "outputs": [
        {
          "output_type": "stream",
          "name": "stdout",
          "text": [
            "(tensor([0, 1, 0]), 0.0)\n",
            "tensor(1.3266)\n"
          ]
        }
      ]
    },
    {
      "cell_type": "code",
      "source": [
        "import torch\n",
        "import torch.nn.functional as F\n",
        "\n",
        "# Given ground truth label (e.g., class 1)\n",
        "y = 1  # The label for the ground truth\n",
        "num_classes = 3  # Total number of classes\n",
        "\n",
        "# Step 1: Create the one-hot encoded vector (for reference)\n",
        "one_hot_label = F.one_hot(torch.tensor(y), num_classes=num_classes).float()\n",
        "print(\"One-Hot Encoded Label:\", one_hot_label)\n",
        "\n",
        "# Step 2: Create model scores (logits)\n",
        "model_scores = torch.tensor([2.0, 0.5, 1.5])  # Example scores (logits)\n",
        "\n",
        "# Step 3: Create the cross-entropy loss function and store it as criterion\n",
        "criterion = torch.nn.CrossEntropyLoss()\n",
        "\n",
        "# Step 4: Calculate the loss using the scores and the ground truth label\n",
        "# CrossEntropyLoss expects the true labels as class indices (not one-hot encoded)\n",
        "loss = criterion(model_scores.unsqueeze(0), torch.tensor([y]))  # Add batch dimension\n",
        "print(\"Cross Entropy Loss:\", loss.item())\n"
      ],
      "metadata": {
        "colab": {
          "base_uri": "https://localhost:8080/"
        },
        "id": "0uMNm1e-h9dd",
        "outputId": "4a39f9c8-e333-4448-fe89-0f354778943b"
      },
      "execution_count": 95,
      "outputs": [
        {
          "output_type": "stream",
          "name": "stdout",
          "text": [
            "One-Hot Encoded Label: tensor([0., 1., 0.])\n",
            "Cross Entropy Loss: 2.104130744934082\n"
          ]
        }
      ]
    },
    {
      "cell_type": "code",
      "source": [
        "import torch\n",
        "import torch.nn.functional as F\n",
        "\n",
        "# Step 1: Define the target class index (ground truth label)\n",
        "y = 1  # Class index for the target (class 1)\n",
        "\n",
        "# Step 2: Create the scores (logits) for 4 classes\n",
        "scores = torch.tensor([[0.1, 6.0, -2.0, 3.2]])  # Example logits for 4 classes (batch size = 1)\n",
        "\n",
        "# Step 3: Initialize the cross-entropy loss function\n",
        "criterion = torch.nn.CrossEntropyLoss()\n",
        "\n",
        "# Step 4: Convert the target label into a tensor and calculate cross-entropy loss\n",
        "torchy = torch.tensor([y])  # Must be a tensor with class indices, not one-hot encoding\n",
        "loss = criterion(scores, torchy)  # Pass raw logits and target class index\n",
        "\n",
        "# Step 5: Print the cross-entropy loss\n",
        "print(\"Cross Entropy Loss:\", loss.item())\n"
      ],
      "metadata": {
        "colab": {
          "base_uri": "https://localhost:8080/"
        },
        "id": "RnkL0ljLjNGo",
        "outputId": "c9d062f3-fde6-4100-98a1-d7b09c7d0288"
      },
      "execution_count": 102,
      "outputs": [
        {
          "output_type": "stream",
          "name": "stdout",
          "text": [
            "Cross Entropy Loss: 0.061927277594804764\n"
          ]
        }
      ]
    },
    {
      "cell_type": "code",
      "source": [
        "import torch\n",
        "import torch.nn as nn\n",
        "import torch.optim as optim\n",
        "\n",
        "# Step 1: Define a simple neural network with one linear layer\n",
        "class SimpleModel(nn.Module):\n",
        "    def __init__(self):\n",
        "        super(SimpleModel, self).__init__()\n",
        "        self.fc = nn.Linear(4, 4)  # Input size = 4, output size = 4 (for 4 classes)\n",
        "\n",
        "    def forward(self, x):\n",
        "        return self.fc(x)\n",
        "\n",
        "# Step 2: Instantiate the model, loss function, and optimizer\n",
        "model = SimpleModel()\n",
        "criterion = nn.CrossEntropyLoss()  # Cross-entropy loss for classification\n",
        "optimizer = optim.SGD(model.parameters(), lr=0.01)  # Simple stochastic gradient descent optimizer\n",
        "\n",
        "# Step 3: Define input (logits) and target (class index) tensors\n",
        "input_tensor = torch.tensor([[0.1, 6.0, -2.0, 3.2]], requires_grad=True)  # Logits (before softmax)\n",
        "target = torch.tensor([1])  # Ground truth class (class index)\n",
        "\n",
        "# Step 4: Perform a forward pass to calculate the loss\n",
        "output = model(input_tensor)  # Forward pass (logits from the model)\n",
        "loss = criterion(output, target)  # Calculate cross-entropy loss\n",
        "\n",
        "# Step 5: Perform a backward pass to compute gradients\n",
        "loss.backward()  # Backpropagation to compute gradients\n",
        "\n",
        "# Step 6: Display the gradients of the weights and biases\n",
        "print(\"Gradients of the weights:\")\n",
        "print(model.fc.weight.grad)  # Gradients of the weight tensor\n",
        "\n",
        "print(\"\\nGradients of the biases:\")\n",
        "print(model.fc.bias.grad)  # Gradients of the bias tensor\n"
      ],
      "metadata": {
        "colab": {
          "base_uri": "https://localhost:8080/"
        },
        "id": "6wrWxq7loezh",
        "outputId": "c50e2b14-abdb-4ced-dab2-30b51865bb90"
      },
      "execution_count": 103,
      "outputs": [
        {
          "output_type": "stream",
          "name": "stdout",
          "text": [
            "Gradients of the weights:\n",
            "tensor([[ 6.1584e-04,  3.6950e-02, -1.2317e-02,  1.9707e-02],\n",
            "        [-7.5558e-02, -4.5335e+00,  1.5112e+00, -2.4179e+00],\n",
            "        [ 6.7028e-05,  4.0217e-03, -1.3406e-03,  2.1449e-03],\n",
            "        [ 7.4876e-02,  4.4925e+00, -1.4975e+00,  2.3960e+00]])\n",
            "\n",
            "Gradients of the biases:\n",
            "tensor([ 6.1584e-03, -7.5558e-01,  6.7028e-04,  7.4876e-01])\n"
          ]
        }
      ]
    },
    {
      "cell_type": "code",
      "source": [
        "import torch\n",
        "import torch.nn as nn\n",
        "\n",
        "# Step 1: Define a model with two linear layers using nn.Sequential()\n",
        "model = nn.Sequential(\n",
        "    nn.Linear(8, 16),  # First Linear layer (input: 8, output: 16)\n",
        "    nn.Linear(16, 4)   # Second Linear layer (input: 16, output: 4)\n",
        ")\n",
        "\n",
        "# Step 2: Access the weight parameter of the first linear layer\n",
        "first_layer_weight = model[0].weight  # model[0] is the first linear layer\n",
        "print(\"Weight of the first linear layer:\")\n",
        "print(first_layer_weight)\n",
        "\n",
        "# Step 3: Access the bias parameter of the second linear layer\n",
        "second_layer_bias = model[1].bias  # model[1] is the second linear layer\n",
        "print(\"\\nBias of the second linear layer:\")\n",
        "print(second_layer_bias)\n"
      ],
      "metadata": {
        "colab": {
          "base_uri": "https://localhost:8080/"
        },
        "id": "-Gp23kiwoo7m",
        "outputId": "60eb9cd6-0946-4352-df93-3b6d624afaf0"
      },
      "execution_count": 104,
      "outputs": [
        {
          "output_type": "stream",
          "name": "stdout",
          "text": [
            "Weight of the first linear layer:\n",
            "Parameter containing:\n",
            "tensor([[ 0.2090,  0.1939, -0.0923,  0.0324,  0.2038, -0.2465,  0.0321, -0.1891],\n",
            "        [ 0.3328,  0.0482, -0.2629, -0.0806, -0.1453,  0.2563, -0.3028,  0.0915],\n",
            "        [ 0.2898, -0.2348, -0.0013, -0.0115,  0.1215,  0.1936,  0.0333,  0.0570],\n",
            "        [-0.2092,  0.0286, -0.2555,  0.0169, -0.0517,  0.0135, -0.2701, -0.2065],\n",
            "        [-0.2822, -0.2350, -0.0938,  0.2525, -0.3129, -0.0064,  0.3424,  0.3345],\n",
            "        [ 0.2951,  0.2321,  0.2948,  0.1969, -0.1840, -0.1831,  0.1957,  0.2860],\n",
            "        [ 0.2859,  0.2910, -0.0497,  0.1248, -0.0664,  0.2161,  0.1215,  0.3334],\n",
            "        [-0.3371,  0.0869, -0.2227, -0.3484, -0.3522, -0.2602,  0.3310,  0.1904],\n",
            "        [ 0.2974,  0.2366,  0.2173,  0.1667, -0.2976, -0.3172,  0.2820, -0.1169],\n",
            "        [-0.3524, -0.3477,  0.0047,  0.0038, -0.3410, -0.1109, -0.1970, -0.0179],\n",
            "        [ 0.0031, -0.0708,  0.1016,  0.2746,  0.3194,  0.2265,  0.2784, -0.1119],\n",
            "        [-0.2387, -0.0463, -0.0377, -0.2567, -0.0786,  0.1408,  0.1025,  0.2425],\n",
            "        [ 0.2804,  0.2107,  0.1966, -0.0373,  0.0061,  0.0495,  0.1387, -0.0528],\n",
            "        [-0.1517, -0.2081,  0.2963, -0.0179, -0.1836, -0.0456,  0.1524,  0.1458],\n",
            "        [-0.3113,  0.2147,  0.3507, -0.2655,  0.0462, -0.1189, -0.1897,  0.1093],\n",
            "        [ 0.2782,  0.0877,  0.0305,  0.2701,  0.0470,  0.1505, -0.1924, -0.3028]],\n",
            "       requires_grad=True)\n",
            "\n",
            "Bias of the second linear layer:\n",
            "Parameter containing:\n",
            "tensor([-0.1789,  0.0149,  0.0876,  0.2351], requires_grad=True)\n"
          ]
        }
      ]
    },
    {
      "cell_type": "code",
      "source": [
        "import torch\n",
        "import torch.nn as nn\n",
        "\n",
        "# Step 1: Define a simple model with three layers\n",
        "model = nn.Sequential(\n",
        "    nn.Linear(8, 16),  # First linear layer\n",
        "    nn.Linear(16, 12),  # Second linear layer\n",
        "    nn.Linear(12, 4)   # Third linear layer (output size 4)\n",
        ")\n",
        "\n",
        "# Step 2: Define a learning rate\n",
        "lr = 0.01  # Learning rate\n",
        "\n",
        "# Let's assume we already have a loss and computed its gradients using backward\n",
        "# loss.backward() should have been called before accessing the gradients\n",
        "\n",
        "# Step 3: Manually update the weights using the computed gradients\n",
        "with torch.no_grad():  # Ensure gradients are not tracked during this operation\n",
        "    for param in model.parameters():\n",
        "        param -= lr * param.grad  # Subtract scaled gradient from the parameters (weights/biases)\n",
        "\n",
        "# Clear the gradients after updating (as would be done by the optimizer)\n",
        "model.zero_grad()\n"
      ],
      "metadata": {
        "colab": {
          "base_uri": "https://localhost:8080/",
          "height": 211
        },
        "id": "EuMAVjyDo-O7",
        "outputId": "7fced54f-95af-498c-eb0a-bb3c01dcd7b1"
      },
      "execution_count": 107,
      "outputs": [
        {
          "output_type": "error",
          "ename": "TypeError",
          "evalue": "unsupported operand type(s) for *: 'float' and 'NoneType'",
          "traceback": [
            "\u001b[0;31m---------------------------------------------------------------------------\u001b[0m",
            "\u001b[0;31mTypeError\u001b[0m                                 Traceback (most recent call last)",
            "\u001b[0;32m<ipython-input-107-9ce59b15688c>\u001b[0m in \u001b[0;36m<cell line: 18>\u001b[0;34m()\u001b[0m\n\u001b[1;32m     18\u001b[0m \u001b[0;32mwith\u001b[0m \u001b[0mtorch\u001b[0m\u001b[0;34m.\u001b[0m\u001b[0mno_grad\u001b[0m\u001b[0;34m(\u001b[0m\u001b[0;34m)\u001b[0m\u001b[0;34m:\u001b[0m  \u001b[0;31m# Ensure gradients are not tracked during this operation\u001b[0m\u001b[0;34m\u001b[0m\u001b[0;34m\u001b[0m\u001b[0m\n\u001b[1;32m     19\u001b[0m     \u001b[0;32mfor\u001b[0m \u001b[0mparam\u001b[0m \u001b[0;32min\u001b[0m \u001b[0mmodel\u001b[0m\u001b[0;34m.\u001b[0m\u001b[0mparameters\u001b[0m\u001b[0;34m(\u001b[0m\u001b[0;34m)\u001b[0m\u001b[0;34m:\u001b[0m\u001b[0;34m\u001b[0m\u001b[0;34m\u001b[0m\u001b[0m\n\u001b[0;32m---> 20\u001b[0;31m         \u001b[0mparam\u001b[0m \u001b[0;34m-=\u001b[0m \u001b[0mlr\u001b[0m \u001b[0;34m*\u001b[0m \u001b[0mparam\u001b[0m\u001b[0;34m.\u001b[0m\u001b[0mgrad\u001b[0m  \u001b[0;31m# Subtract scaled gradient from the parameters (weights/biases)\u001b[0m\u001b[0;34m\u001b[0m\u001b[0;34m\u001b[0m\u001b[0m\n\u001b[0m\u001b[1;32m     21\u001b[0m \u001b[0;34m\u001b[0m\u001b[0m\n\u001b[1;32m     22\u001b[0m \u001b[0;31m# Clear the gradients after updating (as would be done by the optimizer)\u001b[0m\u001b[0;34m\u001b[0m\u001b[0;34m\u001b[0m\u001b[0m\n",
            "\u001b[0;31mTypeError\u001b[0m: unsupported operand type(s) for *: 'float' and 'NoneType'"
          ]
        }
      ]
    },
    {
      "cell_type": "code",
      "source": [
        "import torch\n",
        "import torch.nn as nn\n",
        "\n",
        "# Define a simple model with three linear layers\n",
        "model = nn.Sequential(\n",
        "    nn.Linear(8, 16),  # First linear layer\n",
        "    nn.Linear(16, 12),  # Second linear layer\n",
        "    nn.Linear(12, 4)   # Third linear layer\n",
        ")\n",
        "\n",
        "# Dummy input and loss for the sake of the example\n",
        "input_tensor = torch.randn((1, 8))  # Random input tensor\n",
        "target = torch.tensor([0])  # Random target label\n",
        "\n",
        "# Define a loss function\n",
        "criterion = nn.CrossEntropyLoss()\n",
        "\n",
        "# Forward pass\n",
        "output = model(input_tensor)\n",
        "loss = criterion(output, target.unsqueeze(0))\n",
        "\n",
        "# Backward pass to compute gradients\n",
        "loss.backward()\n",
        "\n",
        "# Define a learning rate\n",
        "lr = 0.01\n",
        "\n",
        "# Access the weights\n",
        "weight0 = model[0].weight\n",
        "weight1 = model[1].weight\n",
        "weight2 = model[2].weight\n",
        "\n",
        "# Access the gradients of the weights of each linear layer\n",
        "grads0 = weight0.grad\n",
        "grads1 = weight1.grad\n",
        "grads2 = weight2.grad\n",
        "\n",
        "# Update the weights using the learning rate and the gradients\n",
        "with torch.no_grad():  # Ensure gradients are not tracked during this operation\n",
        "    weight0.data = weight0.data - lr * grads0\n",
        "    weight1.data = weight1.data - lr * grads1\n",
        "    weight2.data = weight2.data - lr * grads2\n",
        "\n",
        "# Clear the gradients after updating\n",
        "model.zero_grad()\n",
        "\n",
        "# Print the updated weights (just to verify)\n",
        "print(\"Updated weights for layer 0:\", model[0].weight)\n",
        "print(\"Updated weights for layer 1:\", model[1].weight)\n",
        "print(\"Updated weights for layer 2:\", model[2].weight)\n"
      ],
      "metadata": {
        "colab": {
          "base_uri": "https://localhost:8080/",
          "height": 373
        },
        "id": "HkPiSMa-pS1z",
        "outputId": "ff6cbba6-c05f-4792-c3eb-0ded6861bafd"
      },
      "execution_count": 108,
      "outputs": [
        {
          "output_type": "error",
          "ename": "RuntimeError",
          "evalue": "0D or 1D target tensor expected, multi-target not supported",
          "traceback": [
            "\u001b[0;31m---------------------------------------------------------------------------\u001b[0m",
            "\u001b[0;31mRuntimeError\u001b[0m                              Traceback (most recent call last)",
            "\u001b[0;32m<ipython-input-108-98c592fbd9b7>\u001b[0m in \u001b[0;36m<cell line: 20>\u001b[0;34m()\u001b[0m\n\u001b[1;32m     18\u001b[0m \u001b[0;31m# Forward pass\u001b[0m\u001b[0;34m\u001b[0m\u001b[0;34m\u001b[0m\u001b[0m\n\u001b[1;32m     19\u001b[0m \u001b[0moutput\u001b[0m \u001b[0;34m=\u001b[0m \u001b[0mmodel\u001b[0m\u001b[0;34m(\u001b[0m\u001b[0minput_tensor\u001b[0m\u001b[0;34m)\u001b[0m\u001b[0;34m\u001b[0m\u001b[0;34m\u001b[0m\u001b[0m\n\u001b[0;32m---> 20\u001b[0;31m \u001b[0mloss\u001b[0m \u001b[0;34m=\u001b[0m \u001b[0mcriterion\u001b[0m\u001b[0;34m(\u001b[0m\u001b[0moutput\u001b[0m\u001b[0;34m,\u001b[0m \u001b[0mtarget\u001b[0m\u001b[0;34m.\u001b[0m\u001b[0munsqueeze\u001b[0m\u001b[0;34m(\u001b[0m\u001b[0;36m0\u001b[0m\u001b[0;34m)\u001b[0m\u001b[0;34m)\u001b[0m\u001b[0;34m\u001b[0m\u001b[0;34m\u001b[0m\u001b[0m\n\u001b[0m\u001b[1;32m     21\u001b[0m \u001b[0;34m\u001b[0m\u001b[0m\n\u001b[1;32m     22\u001b[0m \u001b[0;31m# Backward pass to compute gradients\u001b[0m\u001b[0;34m\u001b[0m\u001b[0;34m\u001b[0m\u001b[0m\n",
            "\u001b[0;32m/usr/local/lib/python3.10/dist-packages/torch/nn/modules/module.py\u001b[0m in \u001b[0;36m_wrapped_call_impl\u001b[0;34m(self, *args, **kwargs)\u001b[0m\n\u001b[1;32m   1551\u001b[0m             \u001b[0;32mreturn\u001b[0m \u001b[0mself\u001b[0m\u001b[0;34m.\u001b[0m\u001b[0m_compiled_call_impl\u001b[0m\u001b[0;34m(\u001b[0m\u001b[0;34m*\u001b[0m\u001b[0margs\u001b[0m\u001b[0;34m,\u001b[0m \u001b[0;34m**\u001b[0m\u001b[0mkwargs\u001b[0m\u001b[0;34m)\u001b[0m  \u001b[0;31m# type: ignore[misc]\u001b[0m\u001b[0;34m\u001b[0m\u001b[0;34m\u001b[0m\u001b[0m\n\u001b[1;32m   1552\u001b[0m         \u001b[0;32melse\u001b[0m\u001b[0;34m:\u001b[0m\u001b[0;34m\u001b[0m\u001b[0;34m\u001b[0m\u001b[0m\n\u001b[0;32m-> 1553\u001b[0;31m             \u001b[0;32mreturn\u001b[0m \u001b[0mself\u001b[0m\u001b[0;34m.\u001b[0m\u001b[0m_call_impl\u001b[0m\u001b[0;34m(\u001b[0m\u001b[0;34m*\u001b[0m\u001b[0margs\u001b[0m\u001b[0;34m,\u001b[0m \u001b[0;34m**\u001b[0m\u001b[0mkwargs\u001b[0m\u001b[0;34m)\u001b[0m\u001b[0;34m\u001b[0m\u001b[0;34m\u001b[0m\u001b[0m\n\u001b[0m\u001b[1;32m   1554\u001b[0m \u001b[0;34m\u001b[0m\u001b[0m\n\u001b[1;32m   1555\u001b[0m     \u001b[0;32mdef\u001b[0m \u001b[0m_call_impl\u001b[0m\u001b[0;34m(\u001b[0m\u001b[0mself\u001b[0m\u001b[0;34m,\u001b[0m \u001b[0;34m*\u001b[0m\u001b[0margs\u001b[0m\u001b[0;34m,\u001b[0m \u001b[0;34m**\u001b[0m\u001b[0mkwargs\u001b[0m\u001b[0;34m)\u001b[0m\u001b[0;34m:\u001b[0m\u001b[0;34m\u001b[0m\u001b[0;34m\u001b[0m\u001b[0m\n",
            "\u001b[0;32m/usr/local/lib/python3.10/dist-packages/torch/nn/modules/module.py\u001b[0m in \u001b[0;36m_call_impl\u001b[0;34m(self, *args, **kwargs)\u001b[0m\n\u001b[1;32m   1560\u001b[0m                 \u001b[0;32mor\u001b[0m \u001b[0m_global_backward_pre_hooks\u001b[0m \u001b[0;32mor\u001b[0m \u001b[0m_global_backward_hooks\u001b[0m\u001b[0;34m\u001b[0m\u001b[0;34m\u001b[0m\u001b[0m\n\u001b[1;32m   1561\u001b[0m                 or _global_forward_hooks or _global_forward_pre_hooks):\n\u001b[0;32m-> 1562\u001b[0;31m             \u001b[0;32mreturn\u001b[0m \u001b[0mforward_call\u001b[0m\u001b[0;34m(\u001b[0m\u001b[0;34m*\u001b[0m\u001b[0margs\u001b[0m\u001b[0;34m,\u001b[0m \u001b[0;34m**\u001b[0m\u001b[0mkwargs\u001b[0m\u001b[0;34m)\u001b[0m\u001b[0;34m\u001b[0m\u001b[0;34m\u001b[0m\u001b[0m\n\u001b[0m\u001b[1;32m   1563\u001b[0m \u001b[0;34m\u001b[0m\u001b[0m\n\u001b[1;32m   1564\u001b[0m         \u001b[0;32mtry\u001b[0m\u001b[0;34m:\u001b[0m\u001b[0;34m\u001b[0m\u001b[0;34m\u001b[0m\u001b[0m\n",
            "\u001b[0;32m/usr/local/lib/python3.10/dist-packages/torch/nn/modules/loss.py\u001b[0m in \u001b[0;36mforward\u001b[0;34m(self, input, target)\u001b[0m\n\u001b[1;32m   1186\u001b[0m \u001b[0;34m\u001b[0m\u001b[0m\n\u001b[1;32m   1187\u001b[0m     \u001b[0;32mdef\u001b[0m \u001b[0mforward\u001b[0m\u001b[0;34m(\u001b[0m\u001b[0mself\u001b[0m\u001b[0;34m,\u001b[0m \u001b[0minput\u001b[0m\u001b[0;34m:\u001b[0m \u001b[0mTensor\u001b[0m\u001b[0;34m,\u001b[0m \u001b[0mtarget\u001b[0m\u001b[0;34m:\u001b[0m \u001b[0mTensor\u001b[0m\u001b[0;34m)\u001b[0m \u001b[0;34m->\u001b[0m \u001b[0mTensor\u001b[0m\u001b[0;34m:\u001b[0m\u001b[0;34m\u001b[0m\u001b[0;34m\u001b[0m\u001b[0m\n\u001b[0;32m-> 1188\u001b[0;31m         return F.cross_entropy(input, target, weight=self.weight,\n\u001b[0m\u001b[1;32m   1189\u001b[0m                                \u001b[0mignore_index\u001b[0m\u001b[0;34m=\u001b[0m\u001b[0mself\u001b[0m\u001b[0;34m.\u001b[0m\u001b[0mignore_index\u001b[0m\u001b[0;34m,\u001b[0m \u001b[0mreduction\u001b[0m\u001b[0;34m=\u001b[0m\u001b[0mself\u001b[0m\u001b[0;34m.\u001b[0m\u001b[0mreduction\u001b[0m\u001b[0;34m,\u001b[0m\u001b[0;34m\u001b[0m\u001b[0;34m\u001b[0m\u001b[0m\n\u001b[1;32m   1190\u001b[0m                                label_smoothing=self.label_smoothing)\n",
            "\u001b[0;32m/usr/local/lib/python3.10/dist-packages/torch/nn/functional.py\u001b[0m in \u001b[0;36mcross_entropy\u001b[0;34m(input, target, weight, size_average, ignore_index, reduce, reduction, label_smoothing)\u001b[0m\n\u001b[1;32m   3102\u001b[0m     \u001b[0;32mif\u001b[0m \u001b[0msize_average\u001b[0m \u001b[0;32mis\u001b[0m \u001b[0;32mnot\u001b[0m \u001b[0;32mNone\u001b[0m \u001b[0;32mor\u001b[0m \u001b[0mreduce\u001b[0m \u001b[0;32mis\u001b[0m \u001b[0;32mnot\u001b[0m \u001b[0;32mNone\u001b[0m\u001b[0;34m:\u001b[0m\u001b[0;34m\u001b[0m\u001b[0;34m\u001b[0m\u001b[0m\n\u001b[1;32m   3103\u001b[0m         \u001b[0mreduction\u001b[0m \u001b[0;34m=\u001b[0m \u001b[0m_Reduction\u001b[0m\u001b[0;34m.\u001b[0m\u001b[0mlegacy_get_string\u001b[0m\u001b[0;34m(\u001b[0m\u001b[0msize_average\u001b[0m\u001b[0;34m,\u001b[0m \u001b[0mreduce\u001b[0m\u001b[0;34m)\u001b[0m\u001b[0;34m\u001b[0m\u001b[0;34m\u001b[0m\u001b[0m\n\u001b[0;32m-> 3104\u001b[0;31m     \u001b[0;32mreturn\u001b[0m \u001b[0mtorch\u001b[0m\u001b[0;34m.\u001b[0m\u001b[0m_C\u001b[0m\u001b[0;34m.\u001b[0m\u001b[0m_nn\u001b[0m\u001b[0;34m.\u001b[0m\u001b[0mcross_entropy_loss\u001b[0m\u001b[0;34m(\u001b[0m\u001b[0minput\u001b[0m\u001b[0;34m,\u001b[0m \u001b[0mtarget\u001b[0m\u001b[0;34m,\u001b[0m \u001b[0mweight\u001b[0m\u001b[0;34m,\u001b[0m \u001b[0m_Reduction\u001b[0m\u001b[0;34m.\u001b[0m\u001b[0mget_enum\u001b[0m\u001b[0;34m(\u001b[0m\u001b[0mreduction\u001b[0m\u001b[0;34m)\u001b[0m\u001b[0;34m,\u001b[0m \u001b[0mignore_index\u001b[0m\u001b[0;34m,\u001b[0m \u001b[0mlabel_smoothing\u001b[0m\u001b[0;34m)\u001b[0m\u001b[0;34m\u001b[0m\u001b[0;34m\u001b[0m\u001b[0m\n\u001b[0m\u001b[1;32m   3105\u001b[0m \u001b[0;34m\u001b[0m\u001b[0m\n\u001b[1;32m   3106\u001b[0m \u001b[0;34m\u001b[0m\u001b[0m\n",
            "\u001b[0;31mRuntimeError\u001b[0m: 0D or 1D target tensor expected, multi-target not supported"
          ]
        }
      ]
    }
  ]
}